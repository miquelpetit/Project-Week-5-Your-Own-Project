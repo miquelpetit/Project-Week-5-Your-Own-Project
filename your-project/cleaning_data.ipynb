{
 "cells": [
  {
   "cell_type": "markdown",
   "metadata": {},
   "source": [
    "#### Importing the data and the necessary libraries"
   ]
  },
  {
   "cell_type": "code",
   "execution_count": 1,
   "metadata": {},
   "outputs": [],
   "source": [
    "import pandas as pd\n",
    "\n",
    "co2 = pd.read_csv('../source_data/co2_emissions.csv')\n",
    "industrial = pd.read_csv('../source_data/industrial_production.csv')\n",
    "gdp = pd.read_csv('../source_data/gdp.csv')"
   ]
  },
  {
   "cell_type": "markdown",
   "metadata": {},
   "source": [
    "# CO2"
   ]
  },
  {
   "cell_type": "markdown",
   "metadata": {},
   "source": [
    "#### Choosing relevant columns and renaming"
   ]
  },
  {
   "cell_type": "code",
   "execution_count": 2,
   "metadata": {},
   "outputs": [
    {
     "data": {
      "text/html": [
       "<div>\n",
       "<style scoped>\n",
       "    .dataframe tbody tr th:only-of-type {\n",
       "        vertical-align: middle;\n",
       "    }\n",
       "\n",
       "    .dataframe tbody tr th {\n",
       "        vertical-align: top;\n",
       "    }\n",
       "\n",
       "    .dataframe thead th {\n",
       "        text-align: right;\n",
       "    }\n",
       "</style>\n",
       "<table border=\"1\" class=\"dataframe\">\n",
       "  <thead>\n",
       "    <tr style=\"text-align: right;\">\n",
       "      <th></th>\n",
       "      <th>Region/Country/Area</th>\n",
       "      <th>Country</th>\n",
       "      <th>Year</th>\n",
       "      <th>Series</th>\n",
       "      <th>Value</th>\n",
       "      <th>Footnotes</th>\n",
       "      <th>Source</th>\n",
       "    </tr>\n",
       "  </thead>\n",
       "  <tbody>\n",
       "    <tr>\n",
       "      <th>1</th>\n",
       "      <td>1</td>\n",
       "      <td>Total, all countries or areas</td>\n",
       "      <td>1975</td>\n",
       "      <td>Emissions (thousand metric tons of carbon diox...</td>\n",
       "      <td>16,853,532</td>\n",
       "      <td>NaN</td>\n",
       "      <td>Carbon Dioxide Information Analysis Center (CD...</td>\n",
       "    </tr>\n",
       "    <tr>\n",
       "      <th>2</th>\n",
       "      <td>1</td>\n",
       "      <td>Total, all countries or areas</td>\n",
       "      <td>1985</td>\n",
       "      <td>Emissions (thousand metric tons of carbon diox...</td>\n",
       "      <td>19,864,139</td>\n",
       "      <td>NaN</td>\n",
       "      <td>Carbon Dioxide Information Analysis Center (CD...</td>\n",
       "    </tr>\n",
       "    <tr>\n",
       "      <th>3</th>\n",
       "      <td>1</td>\n",
       "      <td>Total, all countries or areas</td>\n",
       "      <td>1995</td>\n",
       "      <td>Emissions (thousand metric tons of carbon diox...</td>\n",
       "      <td>23,120,435</td>\n",
       "      <td>NaN</td>\n",
       "      <td>Carbon Dioxide Information Analysis Center (CD...</td>\n",
       "    </tr>\n",
       "    <tr>\n",
       "      <th>4</th>\n",
       "      <td>1</td>\n",
       "      <td>Total, all countries or areas</td>\n",
       "      <td>2005</td>\n",
       "      <td>Emissions (thousand metric tons of carbon diox...</td>\n",
       "      <td>29,490,014</td>\n",
       "      <td>NaN</td>\n",
       "      <td>Carbon Dioxide Information Analysis Center (CD...</td>\n",
       "    </tr>\n",
       "    <tr>\n",
       "      <th>5</th>\n",
       "      <td>1</td>\n",
       "      <td>Total, all countries or areas</td>\n",
       "      <td>2010</td>\n",
       "      <td>Emissions (thousand metric tons of carbon diox...</td>\n",
       "      <td>33,472,376</td>\n",
       "      <td>NaN</td>\n",
       "      <td>Carbon Dioxide Information Analysis Center (CD...</td>\n",
       "    </tr>\n",
       "  </tbody>\n",
       "</table>\n",
       "</div>"
      ],
      "text/plain": [
       "  Region/Country/Area                        Country  Year  \\\n",
       "1                   1  Total, all countries or areas  1975   \n",
       "2                   1  Total, all countries or areas  1985   \n",
       "3                   1  Total, all countries or areas  1995   \n",
       "4                   1  Total, all countries or areas  2005   \n",
       "5                   1  Total, all countries or areas  2010   \n",
       "\n",
       "                                              Series       Value Footnotes  \\\n",
       "1  Emissions (thousand metric tons of carbon diox...  16,853,532       NaN   \n",
       "2  Emissions (thousand metric tons of carbon diox...  19,864,139       NaN   \n",
       "3  Emissions (thousand metric tons of carbon diox...  23,120,435       NaN   \n",
       "4  Emissions (thousand metric tons of carbon diox...  29,490,014       NaN   \n",
       "5  Emissions (thousand metric tons of carbon diox...  33,472,376       NaN   \n",
       "\n",
       "                                              Source  \n",
       "1  Carbon Dioxide Information Analysis Center (CD...  \n",
       "2  Carbon Dioxide Information Analysis Center (CD...  \n",
       "3  Carbon Dioxide Information Analysis Center (CD...  \n",
       "4  Carbon Dioxide Information Analysis Center (CD...  \n",
       "5  Carbon Dioxide Information Analysis Center (CD...  "
      ]
     },
     "execution_count": 2,
     "metadata": {},
     "output_type": "execute_result"
    }
   ],
   "source": [
    "columnsco2 = list(co2.iloc[0])\n",
    "columnsco2[1] = 'Country'\n",
    "co2.columns = columnsco2\n",
    "co2.drop(0, axis=0, inplace=True)\n",
    "co2.head()"
   ]
  },
  {
   "cell_type": "code",
   "execution_count": 3,
   "metadata": {},
   "outputs": [
    {
     "name": "stdout",
     "output_type": "stream",
     "text": [
      "(set(['Emissions (thousand metric tons of carbon dioxide)', 'Emissions per capita (metric tons of carbon dioxide)']), set([nan, 'For statistical purposes, the data for China do not include those for the Hong Kong Special Administrative Region (Hong Kong SAR), Macao Special Administrative Region (Macao SAR) and Taiwan Province of China.', 'Including San Marino.', 'Including overseas territories.', 'Including Monaco.']), set(['Carbon Dioxide Information Analysis Center (CDIAC) of the Oak Ridge National Laboratory, Oak Ridge, Tennessee, U.S.A., database on national CO2 emission estimates, last accessed March 2017.']))\n"
     ]
    }
   ],
   "source": [
    "print(set(co2['Series']), set(co2['Footnotes']), set(co2['Source']))"
   ]
  },
  {
   "cell_type": "code",
   "execution_count": 4,
   "metadata": {},
   "outputs": [],
   "source": [
    "co2.drop(['Footnotes'], axis=1, inplace=True)"
   ]
  },
  {
   "cell_type": "markdown",
   "metadata": {},
   "source": [
    "#### Checking dtypes"
   ]
  },
  {
   "cell_type": "code",
   "execution_count": 5,
   "metadata": {},
   "outputs": [
    {
     "data": {
      "text/html": [
       "<div>\n",
       "<style scoped>\n",
       "    .dataframe tbody tr th:only-of-type {\n",
       "        vertical-align: middle;\n",
       "    }\n",
       "\n",
       "    .dataframe tbody tr th {\n",
       "        vertical-align: top;\n",
       "    }\n",
       "\n",
       "    .dataframe thead th {\n",
       "        text-align: right;\n",
       "    }\n",
       "</style>\n",
       "<table border=\"1\" class=\"dataframe\">\n",
       "  <thead>\n",
       "    <tr style=\"text-align: right;\">\n",
       "      <th></th>\n",
       "      <th>Region/Country/Area</th>\n",
       "      <th>Country</th>\n",
       "      <th>Year</th>\n",
       "      <th>Series</th>\n",
       "      <th>Value</th>\n",
       "      <th>Source</th>\n",
       "    </tr>\n",
       "  </thead>\n",
       "  <tbody>\n",
       "    <tr>\n",
       "      <th>1</th>\n",
       "      <td>1</td>\n",
       "      <td>Total, all countries or areas</td>\n",
       "      <td>1975</td>\n",
       "      <td>Emissions (thousand metric tons of carbon diox...</td>\n",
       "      <td>16,853,532</td>\n",
       "      <td>Carbon Dioxide Information Analysis Center (CD...</td>\n",
       "    </tr>\n",
       "    <tr>\n",
       "      <th>2</th>\n",
       "      <td>1</td>\n",
       "      <td>Total, all countries or areas</td>\n",
       "      <td>1985</td>\n",
       "      <td>Emissions (thousand metric tons of carbon diox...</td>\n",
       "      <td>19,864,139</td>\n",
       "      <td>Carbon Dioxide Information Analysis Center (CD...</td>\n",
       "    </tr>\n",
       "    <tr>\n",
       "      <th>3</th>\n",
       "      <td>1</td>\n",
       "      <td>Total, all countries or areas</td>\n",
       "      <td>1995</td>\n",
       "      <td>Emissions (thousand metric tons of carbon diox...</td>\n",
       "      <td>23,120,435</td>\n",
       "      <td>Carbon Dioxide Information Analysis Center (CD...</td>\n",
       "    </tr>\n",
       "    <tr>\n",
       "      <th>4</th>\n",
       "      <td>1</td>\n",
       "      <td>Total, all countries or areas</td>\n",
       "      <td>2005</td>\n",
       "      <td>Emissions (thousand metric tons of carbon diox...</td>\n",
       "      <td>29,490,014</td>\n",
       "      <td>Carbon Dioxide Information Analysis Center (CD...</td>\n",
       "    </tr>\n",
       "    <tr>\n",
       "      <th>5</th>\n",
       "      <td>1</td>\n",
       "      <td>Total, all countries or areas</td>\n",
       "      <td>2010</td>\n",
       "      <td>Emissions (thousand metric tons of carbon diox...</td>\n",
       "      <td>33,472,376</td>\n",
       "      <td>Carbon Dioxide Information Analysis Center (CD...</td>\n",
       "    </tr>\n",
       "  </tbody>\n",
       "</table>\n",
       "</div>"
      ],
      "text/plain": [
       "  Region/Country/Area                        Country  Year  \\\n",
       "1                   1  Total, all countries or areas  1975   \n",
       "2                   1  Total, all countries or areas  1985   \n",
       "3                   1  Total, all countries or areas  1995   \n",
       "4                   1  Total, all countries or areas  2005   \n",
       "5                   1  Total, all countries or areas  2010   \n",
       "\n",
       "                                              Series       Value  \\\n",
       "1  Emissions (thousand metric tons of carbon diox...  16,853,532   \n",
       "2  Emissions (thousand metric tons of carbon diox...  19,864,139   \n",
       "3  Emissions (thousand metric tons of carbon diox...  23,120,435   \n",
       "4  Emissions (thousand metric tons of carbon diox...  29,490,014   \n",
       "5  Emissions (thousand metric tons of carbon diox...  33,472,376   \n",
       "\n",
       "                                              Source  \n",
       "1  Carbon Dioxide Information Analysis Center (CD...  \n",
       "2  Carbon Dioxide Information Analysis Center (CD...  \n",
       "3  Carbon Dioxide Information Analysis Center (CD...  \n",
       "4  Carbon Dioxide Information Analysis Center (CD...  \n",
       "5  Carbon Dioxide Information Analysis Center (CD...  "
      ]
     },
     "execution_count": 5,
     "metadata": {},
     "output_type": "execute_result"
    }
   ],
   "source": [
    "co2.head()"
   ]
  },
  {
   "cell_type": "code",
   "execution_count": 6,
   "metadata": {},
   "outputs": [],
   "source": [
    "co2 = co2.astype({'Region/Country/Area':'int64', 'Year':'int64'})\n",
    "\n",
    "# The commas in ['Value'] are fucking up the conversion of the type, we will replace them in the separed tables"
   ]
  },
  {
   "cell_type": "markdown",
   "metadata": {},
   "source": [
    "#### Separing data by series"
   ]
  },
  {
   "cell_type": "code",
   "execution_count": 7,
   "metadata": {},
   "outputs": [],
   "source": [
    "co2_per_capita = co2[co2['Series']== 'Emissions per capita (metric tons of carbon dioxide)'].drop(['Series'], axis=1)\n",
    "co2_absolut = co2[co2['Series'] != 'Emissions per capita (metric tons of carbon dioxide)'].drop(['Series'], axis=1)"
   ]
  },
  {
   "cell_type": "code",
   "execution_count": 8,
   "metadata": {},
   "outputs": [],
   "source": [
    "co2_per_capita.drop(['Source'], axis=1, inplace=True)\n",
    "co2_absolut.drop(['Source'], axis=1, inplace=True)"
   ]
  },
  {
   "cell_type": "markdown",
   "metadata": {},
   "source": [
    "#### dtypes for value"
   ]
  },
  {
   "cell_type": "code",
   "execution_count": 10,
   "metadata": {},
   "outputs": [],
   "source": [
    "co2_absolut['Value'] = co2_absolut['Value'].str.replace(',','')\n",
    "\n",
    "co2_per_capita = co2_per_capita.astype({'Value':'float64'})\n",
    "co2_absolut = co2_absolut.astype({'Value':'int64'})"
   ]
  },
  {
   "cell_type": "markdown",
   "metadata": {},
   "source": [
    "#### joining tables"
   ]
  },
  {
   "cell_type": "code",
   "execution_count": 45,
   "metadata": {},
   "outputs": [],
   "source": [
    "co2_complete = pd.merge(co2_per_capita, co2_absolut, on=['Region/Country/Area', 'Year', 'Country'], how='left')"
   ]
  },
  {
   "cell_type": "code",
   "execution_count": 47,
   "metadata": {},
   "outputs": [],
   "source": [
    "co2_complete.columns = ['Region/Country/Area','Country', 'Year','per_capita', 'thousand_tons']"
   ]
  },
  {
   "cell_type": "code",
   "execution_count": 72,
   "metadata": {},
   "outputs": [
    {
     "data": {
      "text/html": [
       "<div>\n",
       "<style scoped>\n",
       "    .dataframe tbody tr th:only-of-type {\n",
       "        vertical-align: middle;\n",
       "    }\n",
       "\n",
       "    .dataframe tbody tr th {\n",
       "        vertical-align: top;\n",
       "    }\n",
       "\n",
       "    .dataframe thead th {\n",
       "        text-align: right;\n",
       "    }\n",
       "</style>\n",
       "<table border=\"1\" class=\"dataframe\">\n",
       "  <thead>\n",
       "    <tr style=\"text-align: right;\">\n",
       "      <th></th>\n",
       "      <th>Region/Country/Area</th>\n",
       "      <th>Country</th>\n",
       "      <th>Year</th>\n",
       "      <th>per_capita</th>\n",
       "      <th>thousand_tons</th>\n",
       "    </tr>\n",
       "  </thead>\n",
       "  <tbody>\n",
       "    <tr>\n",
       "      <th>0</th>\n",
       "      <td>1</td>\n",
       "      <td>Total, all countries or areas</td>\n",
       "      <td>1975</td>\n",
       "      <td>4.1</td>\n",
       "      <td>16853532</td>\n",
       "    </tr>\n",
       "    <tr>\n",
       "      <th>1</th>\n",
       "      <td>1</td>\n",
       "      <td>Total, all countries or areas</td>\n",
       "      <td>1985</td>\n",
       "      <td>4.1</td>\n",
       "      <td>19864139</td>\n",
       "    </tr>\n",
       "    <tr>\n",
       "      <th>2</th>\n",
       "      <td>1</td>\n",
       "      <td>Total, all countries or areas</td>\n",
       "      <td>1995</td>\n",
       "      <td>4.0</td>\n",
       "      <td>23120435</td>\n",
       "    </tr>\n",
       "    <tr>\n",
       "      <th>3</th>\n",
       "      <td>1</td>\n",
       "      <td>Total, all countries or areas</td>\n",
       "      <td>2005</td>\n",
       "      <td>4.5</td>\n",
       "      <td>29490014</td>\n",
       "    </tr>\n",
       "    <tr>\n",
       "      <th>4</th>\n",
       "      <td>1</td>\n",
       "      <td>Total, all countries or areas</td>\n",
       "      <td>2010</td>\n",
       "      <td>4.8</td>\n",
       "      <td>33472376</td>\n",
       "    </tr>\n",
       "  </tbody>\n",
       "</table>\n",
       "</div>"
      ],
      "text/plain": [
       "   Region/Country/Area                        Country  Year  per_capita  \\\n",
       "0                    1  Total, all countries or areas  1975         4.1   \n",
       "1                    1  Total, all countries or areas  1985         4.1   \n",
       "2                    1  Total, all countries or areas  1995         4.0   \n",
       "3                    1  Total, all countries or areas  2005         4.5   \n",
       "4                    1  Total, all countries or areas  2010         4.8   \n",
       "\n",
       "   thousand_tons  \n",
       "0       16853532  \n",
       "1       19864139  \n",
       "2       23120435  \n",
       "3       29490014  \n",
       "4       33472376  "
      ]
     },
     "execution_count": 72,
     "metadata": {},
     "output_type": "execute_result"
    }
   ],
   "source": [
    "co2_complete.head()"
   ]
  },
  {
   "cell_type": "code",
   "execution_count": 81,
   "metadata": {},
   "outputs": [],
   "source": [
    "co2_complete.to_csv('../clean_data/co2_clean.csv')"
   ]
  },
  {
   "cell_type": "markdown",
   "metadata": {},
   "source": [
    "# GDP"
   ]
  },
  {
   "cell_type": "markdown",
   "metadata": {},
   "source": [
    "#### Columns"
   ]
  },
  {
   "cell_type": "code",
   "execution_count": 58,
   "metadata": {},
   "outputs": [
    {
     "data": {
      "text/html": [
       "<div>\n",
       "<style scoped>\n",
       "    .dataframe tbody tr th:only-of-type {\n",
       "        vertical-align: middle;\n",
       "    }\n",
       "\n",
       "    .dataframe tbody tr th {\n",
       "        vertical-align: top;\n",
       "    }\n",
       "\n",
       "    .dataframe thead th {\n",
       "        text-align: right;\n",
       "    }\n",
       "</style>\n",
       "<table border=\"1\" class=\"dataframe\">\n",
       "  <thead>\n",
       "    <tr style=\"text-align: right;\">\n",
       "      <th></th>\n",
       "      <th>Region/Country/Area</th>\n",
       "      <th>Country</th>\n",
       "      <th>Year</th>\n",
       "      <th>Series</th>\n",
       "      <th>Value</th>\n",
       "      <th>Footnotes</th>\n",
       "      <th>Source</th>\n",
       "    </tr>\n",
       "  </thead>\n",
       "  <tbody>\n",
       "    <tr>\n",
       "      <th>1</th>\n",
       "      <td>1</td>\n",
       "      <td>Total, all countries or areas</td>\n",
       "      <td>1985</td>\n",
       "      <td>GDP in current prices (millions of US dollars)</td>\n",
       "      <td>13,518,851</td>\n",
       "      <td>NaN</td>\n",
       "      <td>United Nations Statistics Division, New York, ...</td>\n",
       "    </tr>\n",
       "    <tr>\n",
       "      <th>2</th>\n",
       "      <td>1</td>\n",
       "      <td>Total, all countries or areas</td>\n",
       "      <td>1995</td>\n",
       "      <td>GDP in current prices (millions of US dollars)</td>\n",
       "      <td>31,084,222</td>\n",
       "      <td>NaN</td>\n",
       "      <td>United Nations Statistics Division, New York, ...</td>\n",
       "    </tr>\n",
       "    <tr>\n",
       "      <th>3</th>\n",
       "      <td>1</td>\n",
       "      <td>Total, all countries or areas</td>\n",
       "      <td>2005</td>\n",
       "      <td>GDP in current prices (millions of US dollars)</td>\n",
       "      <td>47,550,129</td>\n",
       "      <td>NaN</td>\n",
       "      <td>United Nations Statistics Division, New York, ...</td>\n",
       "    </tr>\n",
       "    <tr>\n",
       "      <th>4</th>\n",
       "      <td>1</td>\n",
       "      <td>Total, all countries or areas</td>\n",
       "      <td>2010</td>\n",
       "      <td>GDP in current prices (millions of US dollars)</td>\n",
       "      <td>66,145,612</td>\n",
       "      <td>NaN</td>\n",
       "      <td>United Nations Statistics Division, New York, ...</td>\n",
       "    </tr>\n",
       "    <tr>\n",
       "      <th>5</th>\n",
       "      <td>1</td>\n",
       "      <td>Total, all countries or areas</td>\n",
       "      <td>2015</td>\n",
       "      <td>GDP in current prices (millions of US dollars)</td>\n",
       "      <td>74,757,288</td>\n",
       "      <td>NaN</td>\n",
       "      <td>United Nations Statistics Division, New York, ...</td>\n",
       "    </tr>\n",
       "  </tbody>\n",
       "</table>\n",
       "</div>"
      ],
      "text/plain": [
       "0 Region/Country/Area                        Country  Year  \\\n",
       "1                   1  Total, all countries or areas  1985   \n",
       "2                   1  Total, all countries or areas  1995   \n",
       "3                   1  Total, all countries or areas  2005   \n",
       "4                   1  Total, all countries or areas  2010   \n",
       "5                   1  Total, all countries or areas  2015   \n",
       "\n",
       "0                                          Series       Value Footnotes  \\\n",
       "1  GDP in current prices (millions of US dollars)  13,518,851       NaN   \n",
       "2  GDP in current prices (millions of US dollars)  31,084,222       NaN   \n",
       "3  GDP in current prices (millions of US dollars)  47,550,129       NaN   \n",
       "4  GDP in current prices (millions of US dollars)  66,145,612       NaN   \n",
       "5  GDP in current prices (millions of US dollars)  74,757,288       NaN   \n",
       "\n",
       "0                                             Source  \n",
       "1  United Nations Statistics Division, New York, ...  \n",
       "2  United Nations Statistics Division, New York, ...  \n",
       "3  United Nations Statistics Division, New York, ...  \n",
       "4  United Nations Statistics Division, New York, ...  \n",
       "5  United Nations Statistics Division, New York, ...  "
      ]
     },
     "execution_count": 58,
     "metadata": {},
     "output_type": "execute_result"
    }
   ],
   "source": [
    "gdp_cols = gdp.iloc[0]\n",
    "gdp_cols[1] = 'Country'\n",
    "gdp.columns = gdp_cols\n",
    "gdp.drop(0, axis=0, inplace=True)\n",
    "gdp.head()"
   ]
  },
  {
   "cell_type": "code",
   "execution_count": 60,
   "metadata": {},
   "outputs": [
    {
     "name": "stdout",
     "output_type": "stream",
     "text": [
      "(set(['GDP in constant 2010 prices (millions of US dollars)', 'GDP per capita (US dollars)', 'GDP real rates of growth (percent)', 'GDP in current prices (millions of US dollars)']), set([nan, 'Including Kosovo and Metohija.', 'Tanzania mainland only, excluding Zanzibar.', 'For statistical purposes, the data for China do not include those for the Hong Kong Special Administrative Region (Hong Kong SAR), Macao Special Administrative Region (Macao SAR) and Taiwan Province of China.', 'Does not incorporate export of binational hydroelectric power at market prices.', 'Data compiled in accordance with the System of National Accounts 1968 (1968 SNA).', 'Excluding northern Cyprus.', 'Including Western Sahara.', 'Excluding Kosovo and Metohija.', 'Including French Guiana, Guadeloupe, Martinique and R\\xe9union.', 'Excludes the temporarily occupied territory of the Autonomous Republic of Crimea and Sevastopol.', 'Does not incorporate value added generated by binational hydroelectric plants.']), set(['United Nations Statistics Division, New York, National Accounts Statistics: Analysis of Main Aggregates (AMA) database, last accessed February 2018.']))\n"
     ]
    }
   ],
   "source": [
    "print(set(gdp['Series']), \n",
    "      set(gdp['Footnotes']), \n",
    "      set(gdp['Source']))"
   ]
  },
  {
   "cell_type": "code",
   "execution_count": 61,
   "metadata": {},
   "outputs": [],
   "source": [
    "gdp.drop(['Footnotes'], axis=1, inplace=True)\n",
    "gdp.drop(['Source'], axis=1, inplace=True)"
   ]
  },
  {
   "cell_type": "markdown",
   "metadata": {},
   "source": [
    "#### dtypes"
   ]
  },
  {
   "cell_type": "code",
   "execution_count": 63,
   "metadata": {},
   "outputs": [],
   "source": [
    "gdp['Value'] = gdp['Value'].str.replace(',','')\n",
    "gdp = gdp.astype({'Value':'float64', 'Year':'int64', 'Region/Country/Area':'int64'})"
   ]
  },
  {
   "cell_type": "markdown",
   "metadata": {},
   "source": [
    "#### separing tables"
   ]
  },
  {
   "cell_type": "code",
   "execution_count": 64,
   "metadata": {},
   "outputs": [],
   "source": [
    "gdp_growth = gdp[gdp['Series'] == 'GDP real rates of growth (percent)']\n",
    "gdp_capita = gdp[gdp['Series'] == 'GDP per capita (US dollars)']\n",
    "gdp_abs = gdp[gdp['Series'] == 'GDP in current prices (millions of US dollars)']"
   ]
  },
  {
   "cell_type": "markdown",
   "metadata": {},
   "source": [
    "#### join tables"
   ]
  },
  {
   "cell_type": "code",
   "execution_count": 68,
   "metadata": {},
   "outputs": [],
   "source": [
    "gdp_complete0 = pd.merge(gdp_growth, gdp_capita, on=['Region/Country/Area', 'Year', 'Country'])"
   ]
  },
  {
   "cell_type": "code",
   "execution_count": 69,
   "metadata": {},
   "outputs": [],
   "source": [
    "gdp_complete = pd.merge(gdp_complete0, gdp_abs, on=['Region/Country/Area', 'Year', 'Country'])   "
   ]
  },
  {
   "cell_type": "code",
   "execution_count": 76,
   "metadata": {},
   "outputs": [],
   "source": [
    "gdp_complete.columns = ['Region/Country/Area','Country', 'Year','abc','Real growth rate','abc1','Per capita', 'abc2','In millions']\n",
    "gdp_complete.drop('abc', axis=1, inplace=True)\n",
    "gdp_complete.drop('abc1', axis=1, inplace=True)\n",
    "gdp_complete.drop('abc2', axis=1, inplace=True)"
   ]
  },
  {
   "cell_type": "code",
   "execution_count": 79,
   "metadata": {},
   "outputs": [
    {
     "data": {
      "text/html": [
       "<div>\n",
       "<style scoped>\n",
       "    .dataframe tbody tr th:only-of-type {\n",
       "        vertical-align: middle;\n",
       "    }\n",
       "\n",
       "    .dataframe tbody tr th {\n",
       "        vertical-align: top;\n",
       "    }\n",
       "\n",
       "    .dataframe thead th {\n",
       "        text-align: right;\n",
       "    }\n",
       "</style>\n",
       "<table border=\"1\" class=\"dataframe\">\n",
       "  <thead>\n",
       "    <tr style=\"text-align: right;\">\n",
       "      <th></th>\n",
       "      <th>Region/Country/Area</th>\n",
       "      <th>Country</th>\n",
       "      <th>Year</th>\n",
       "      <th>Real growth rate</th>\n",
       "      <th>Per capita</th>\n",
       "      <th>In millions</th>\n",
       "    </tr>\n",
       "  </thead>\n",
       "  <tbody>\n",
       "    <tr>\n",
       "      <th>0</th>\n",
       "      <td>1</td>\n",
       "      <td>Total, all countries or areas</td>\n",
       "      <td>1985</td>\n",
       "      <td>3.5</td>\n",
       "      <td>2776.0</td>\n",
       "      <td>13518851.0</td>\n",
       "    </tr>\n",
       "    <tr>\n",
       "      <th>1</th>\n",
       "      <td>1</td>\n",
       "      <td>Total, all countries or areas</td>\n",
       "      <td>1995</td>\n",
       "      <td>3.1</td>\n",
       "      <td>5406.0</td>\n",
       "      <td>31084222.0</td>\n",
       "    </tr>\n",
       "    <tr>\n",
       "      <th>2</th>\n",
       "      <td>1</td>\n",
       "      <td>Total, all countries or areas</td>\n",
       "      <td>2005</td>\n",
       "      <td>3.9</td>\n",
       "      <td>7270.0</td>\n",
       "      <td>47550129.0</td>\n",
       "    </tr>\n",
       "    <tr>\n",
       "      <th>3</th>\n",
       "      <td>1</td>\n",
       "      <td>Total, all countries or areas</td>\n",
       "      <td>2010</td>\n",
       "      <td>4.3</td>\n",
       "      <td>9508.0</td>\n",
       "      <td>66145612.0</td>\n",
       "    </tr>\n",
       "    <tr>\n",
       "      <th>4</th>\n",
       "      <td>1</td>\n",
       "      <td>Total, all countries or areas</td>\n",
       "      <td>2015</td>\n",
       "      <td>2.8</td>\n",
       "      <td>10128.0</td>\n",
       "      <td>74757288.0</td>\n",
       "    </tr>\n",
       "  </tbody>\n",
       "</table>\n",
       "</div>"
      ],
      "text/plain": [
       "   Region/Country/Area                        Country  Year  Real growth rate  \\\n",
       "0                    1  Total, all countries or areas  1985               3.5   \n",
       "1                    1  Total, all countries or areas  1995               3.1   \n",
       "2                    1  Total, all countries or areas  2005               3.9   \n",
       "3                    1  Total, all countries or areas  2010               4.3   \n",
       "4                    1  Total, all countries or areas  2015               2.8   \n",
       "\n",
       "   Per capita  In millions  \n",
       "0      2776.0   13518851.0  \n",
       "1      5406.0   31084222.0  \n",
       "2      7270.0   47550129.0  \n",
       "3      9508.0   66145612.0  \n",
       "4     10128.0   74757288.0  "
      ]
     },
     "execution_count": 79,
     "metadata": {},
     "output_type": "execute_result"
    }
   ],
   "source": [
    "gdp_complete.head()"
   ]
  },
  {
   "cell_type": "code",
   "execution_count": 80,
   "metadata": {},
   "outputs": [],
   "source": [
    "gdp_complete.to_csv('../clean_data/gdp_clean.csv')"
   ]
  },
  {
   "cell_type": "markdown",
   "metadata": {},
   "source": [
    "# Industrial production"
   ]
  },
  {
   "cell_type": "code",
   "execution_count": 83,
   "metadata": {},
   "outputs": [
    {
     "data": {
      "text/html": [
       "<div>\n",
       "<style scoped>\n",
       "    .dataframe tbody tr th:only-of-type {\n",
       "        vertical-align: middle;\n",
       "    }\n",
       "\n",
       "    .dataframe tbody tr th {\n",
       "        vertical-align: top;\n",
       "    }\n",
       "\n",
       "    .dataframe thead th {\n",
       "        text-align: right;\n",
       "    }\n",
       "</style>\n",
       "<table border=\"1\" class=\"dataframe\">\n",
       "  <thead>\n",
       "    <tr style=\"text-align: right;\">\n",
       "      <th></th>\n",
       "      <th>[T25.]</th>\n",
       "      <th>Index of Industrial Production</th>\n",
       "      <th>Unnamed: 2</th>\n",
       "      <th>Unnamed: 3</th>\n",
       "      <th>Unnamed: 4</th>\n",
       "      <th>Unnamed: 5</th>\n",
       "      <th>Unnamed: 6</th>\n",
       "    </tr>\n",
       "  </thead>\n",
       "  <tbody>\n",
       "    <tr>\n",
       "      <th>0</th>\n",
       "      <td>Region/Country/Area</td>\n",
       "      <td>NaN</td>\n",
       "      <td>Series</td>\n",
       "      <td>Year</td>\n",
       "      <td>Value</td>\n",
       "      <td>Footnotes</td>\n",
       "      <td>Source</td>\n",
       "    </tr>\n",
       "    <tr>\n",
       "      <th>1</th>\n",
       "      <td>8</td>\n",
       "      <td>Albania</td>\n",
       "      <td>Index of industrial production: Total industry...</td>\n",
       "      <td>2007</td>\n",
       "      <td>118.5</td>\n",
       "      <td>NaN</td>\n",
       "      <td>United Nations Statistics Division, New York, ...</td>\n",
       "    </tr>\n",
       "    <tr>\n",
       "      <th>2</th>\n",
       "      <td>8</td>\n",
       "      <td>Albania</td>\n",
       "      <td>Index of industrial production: Total industry...</td>\n",
       "      <td>2008</td>\n",
       "      <td>142.7</td>\n",
       "      <td>NaN</td>\n",
       "      <td>United Nations Statistics Division, New York, ...</td>\n",
       "    </tr>\n",
       "    <tr>\n",
       "      <th>3</th>\n",
       "      <td>8</td>\n",
       "      <td>Albania</td>\n",
       "      <td>Index of industrial production: Total industry...</td>\n",
       "      <td>2009</td>\n",
       "      <td>148.3</td>\n",
       "      <td>NaN</td>\n",
       "      <td>United Nations Statistics Division, New York, ...</td>\n",
       "    </tr>\n",
       "    <tr>\n",
       "      <th>4</th>\n",
       "      <td>8</td>\n",
       "      <td>Albania</td>\n",
       "      <td>Index of industrial production: Total industry...</td>\n",
       "      <td>2010</td>\n",
       "      <td>200.2</td>\n",
       "      <td>NaN</td>\n",
       "      <td>United Nations Statistics Division, New York, ...</td>\n",
       "    </tr>\n",
       "  </tbody>\n",
       "</table>\n",
       "</div>"
      ],
      "text/plain": [
       "                [T25.] Index of Industrial Production  \\\n",
       "0  Region/Country/Area                            NaN   \n",
       "1                    8                        Albania   \n",
       "2                    8                        Albania   \n",
       "3                    8                        Albania   \n",
       "4                    8                        Albania   \n",
       "\n",
       "                                          Unnamed: 2 Unnamed: 3 Unnamed: 4  \\\n",
       "0                                             Series       Year      Value   \n",
       "1  Index of industrial production: Total industry...       2007      118.5   \n",
       "2  Index of industrial production: Total industry...       2008      142.7   \n",
       "3  Index of industrial production: Total industry...       2009      148.3   \n",
       "4  Index of industrial production: Total industry...       2010      200.2   \n",
       "\n",
       "  Unnamed: 5                                         Unnamed: 6  \n",
       "0  Footnotes                                             Source  \n",
       "1        NaN  United Nations Statistics Division, New York, ...  \n",
       "2        NaN  United Nations Statistics Division, New York, ...  \n",
       "3        NaN  United Nations Statistics Division, New York, ...  \n",
       "4        NaN  United Nations Statistics Division, New York, ...  "
      ]
     },
     "execution_count": 83,
     "metadata": {},
     "output_type": "execute_result"
    }
   ],
   "source": [
    "industrial.head()"
   ]
  },
  {
   "cell_type": "markdown",
   "metadata": {},
   "source": [
    "#### Columns"
   ]
  },
  {
   "cell_type": "code",
   "execution_count": 84,
   "metadata": {},
   "outputs": [
    {
     "data": {
      "text/html": [
       "<div>\n",
       "<style scoped>\n",
       "    .dataframe tbody tr th:only-of-type {\n",
       "        vertical-align: middle;\n",
       "    }\n",
       "\n",
       "    .dataframe tbody tr th {\n",
       "        vertical-align: top;\n",
       "    }\n",
       "\n",
       "    .dataframe thead th {\n",
       "        text-align: right;\n",
       "    }\n",
       "</style>\n",
       "<table border=\"1\" class=\"dataframe\">\n",
       "  <thead>\n",
       "    <tr style=\"text-align: right;\">\n",
       "      <th></th>\n",
       "      <th>Region/Country/Area</th>\n",
       "      <th>Country</th>\n",
       "      <th>Series</th>\n",
       "      <th>Year</th>\n",
       "      <th>Value</th>\n",
       "      <th>Footnotes</th>\n",
       "      <th>Source</th>\n",
       "    </tr>\n",
       "  </thead>\n",
       "  <tbody>\n",
       "    <tr>\n",
       "      <th>1</th>\n",
       "      <td>8</td>\n",
       "      <td>Albania</td>\n",
       "      <td>Index of industrial production: Total industry...</td>\n",
       "      <td>2007</td>\n",
       "      <td>118.5</td>\n",
       "      <td>NaN</td>\n",
       "      <td>United Nations Statistics Division, New York, ...</td>\n",
       "    </tr>\n",
       "    <tr>\n",
       "      <th>2</th>\n",
       "      <td>8</td>\n",
       "      <td>Albania</td>\n",
       "      <td>Index of industrial production: Total industry...</td>\n",
       "      <td>2008</td>\n",
       "      <td>142.7</td>\n",
       "      <td>NaN</td>\n",
       "      <td>United Nations Statistics Division, New York, ...</td>\n",
       "    </tr>\n",
       "    <tr>\n",
       "      <th>3</th>\n",
       "      <td>8</td>\n",
       "      <td>Albania</td>\n",
       "      <td>Index of industrial production: Total industry...</td>\n",
       "      <td>2009</td>\n",
       "      <td>148.3</td>\n",
       "      <td>NaN</td>\n",
       "      <td>United Nations Statistics Division, New York, ...</td>\n",
       "    </tr>\n",
       "    <tr>\n",
       "      <th>4</th>\n",
       "      <td>8</td>\n",
       "      <td>Albania</td>\n",
       "      <td>Index of industrial production: Total industry...</td>\n",
       "      <td>2010</td>\n",
       "      <td>200.2</td>\n",
       "      <td>NaN</td>\n",
       "      <td>United Nations Statistics Division, New York, ...</td>\n",
       "    </tr>\n",
       "    <tr>\n",
       "      <th>5</th>\n",
       "      <td>8</td>\n",
       "      <td>Albania</td>\n",
       "      <td>Index of industrial production: Total industry...</td>\n",
       "      <td>2011</td>\n",
       "      <td>237.6</td>\n",
       "      <td>NaN</td>\n",
       "      <td>United Nations Statistics Division, New York, ...</td>\n",
       "    </tr>\n",
       "  </tbody>\n",
       "</table>\n",
       "</div>"
      ],
      "text/plain": [
       "  Region/Country/Area  Country  \\\n",
       "1                   8  Albania   \n",
       "2                   8  Albania   \n",
       "3                   8  Albania   \n",
       "4                   8  Albania   \n",
       "5                   8  Albania   \n",
       "\n",
       "                                              Series  Year  Value Footnotes  \\\n",
       "1  Index of industrial production: Total industry...  2007  118.5       NaN   \n",
       "2  Index of industrial production: Total industry...  2008  142.7       NaN   \n",
       "3  Index of industrial production: Total industry...  2009  148.3       NaN   \n",
       "4  Index of industrial production: Total industry...  2010  200.2       NaN   \n",
       "5  Index of industrial production: Total industry...  2011  237.6       NaN   \n",
       "\n",
       "                                              Source  \n",
       "1  United Nations Statistics Division, New York, ...  \n",
       "2  United Nations Statistics Division, New York, ...  \n",
       "3  United Nations Statistics Division, New York, ...  \n",
       "4  United Nations Statistics Division, New York, ...  \n",
       "5  United Nations Statistics Division, New York, ...  "
      ]
     },
     "execution_count": 84,
     "metadata": {},
     "output_type": "execute_result"
    }
   ],
   "source": [
    "industrialcols = list(industrial.iloc[0])\n",
    "industrialcols[1] = 'Country'\n",
    "industrial.columns = industrialcols\n",
    "industrial.drop(0, axis=0, inplace=True)\n",
    "industrial.head()"
   ]
  },
  {
   "cell_type": "code",
   "execution_count": 87,
   "metadata": {},
   "outputs": [
    {
     "name": "stdout",
     "output_type": "stream",
     "text": [
      "set(['Index of industrial production: Metal products and machinery (Index Base: 2005=100)', 'Index of industrial production: Metal products (Index base: 2005=100)', 'Index of industrial production: Water and waste management (Index base: 2005=100)', 'Index of industrial production: Mining (Index base: 2005=100)', 'Index of industrial production: Total industry - Mining; manufacturing; electricity, gas and water (Index base: 2005=100)', 'Index of industrial production: Machinery (Index base: 2005=100)', 'Index of industrial production: Textiles, wearing apparel, leather, footwear (Index base: 2005=100)', 'Index of industrial production: Food, beverages and tobacco (Index base: 2005=100)', 'Index of industrial production: Miscellaneous manufacturing industries (Index base: 2005=100)', 'Index of industrial production: Manufacturing (Index base: 2005=100)', 'Index of industrial production: Electricity, gas and water (Index base: 2005=100)', 'Index of industrial production: Electricity, gas, steam (Index base: 2005=100)', 'Index of industrial production: Chemicals, petroleum, rubber and plastic products (Index base: 2005=100)', 'Index of industrial production: Mining and manufacturing (Index base: 2005=100)', 'Index of industrial production: Basic metals (Index base: 2005=100)'])\n"
     ]
    }
   ],
   "source": [
    "print(set(industrial['Series']))"
   ]
  },
  {
   "cell_type": "code",
   "execution_count": 88,
   "metadata": {},
   "outputs": [
    {
     "name": "stdout",
     "output_type": "stream",
     "text": [
      "set([nan, 'Twelve months ending 31 March of the year stated.;Including water and waste management.', 'The indices are based on ISIC Rev. 3.;Twelve months beginning 1 July of the year stated.;Data refers to textiles only.', 'Data refers to chemicals and pharmaceutical products only.', 'Excluding petroleum and pharmaceutical products.', 'Twelve months ending 30 June of the year stated.', 'The indices are based on ISIC Rev. 3.;Data refers to fabricated metal products only.', 'The indices are based on ISIC Rev. 3.;Data refers to electricity and water only.', 'Data refers to electricity, steam and air conditioning supply only.', 'The indices are based on ISIC Rev. 3.;Data refers to electricity only.', 'Data refers to food only.', 'The indices are based on ISIC Rev. 3.;Data refers to textiles only.', 'The indices are based on ISIC Rev. 3.;Including basic metals.', 'The indices are based on ISIC Rev. 3.;Twelve months beginning 1 July of the year stated.;Data refers to electricity only.', 'Break in the time series.;Data refers to electricity and gas only.', 'The indices are based on ISIC Rev. 3.;Data refers to food and beverages only.', 'The indices are based on ISIC Rev. 3.;Data refers to fabricated metal products; machinery and equipment, n.e.c.; electrical machinery and apparatus, n.e.c.; and other transport equipment only.', 'The indices are based on ISIC Rev. 3.;Country data supplemented with data from the Observatoire Economique et Statistique d\\x92Afrique Subsaharienne (Afristat).;Data refers to manufacturing and utilities only.', 'Twelve months ending 31 March of the year stated.;Excluding repair and installation of machinery and equipment.', 'Break in the time series.', 'For government controlled areas.', 'The indices are based on ISIC Rev. 3.;Excluding wearing apparel.', 'The indices are based on ISIC Rev. 3.;Country data supplemented with data from the Observatoire Economique et Statistique d\\x92Afrique Subsaharienne (Afristat).;Data refers to food and beverages only.', 'The indices are based on ISIC Rev. 3.;Twelve months beginning 1 April of the year stated.', 'The indices are based on ISIC Rev. 3.;Data refers to manufacturing and utilities only.', 'The indices are based on ISIC Rev. 3.;Data refers to wearing apparel only.', 'Data refers to fabricated metals, machinery and equipment n.e.c. only.', 'Excludes the Overseas Departments (French Guiana, Guadeloupe, Martinique, Mayotte and R\\xe9union).', 'Excluding water and waste management.', 'Twelve months ending 31 March of the year stated.;Including basic metals.', 'Excluding pharmaceutical products.', 'Data refers to electricity and gas only.', 'Data refers to textiles and wearing apparel only.', 'Including other non-metallic mineral products.', 'The indices are based on ISIC Rev. 3.;Data refers to chemicals and chemical products only.', 'The indices are based on ISIC Rev. 3.;Data refers to textiles and wearing apparel only.', 'Data refers to electricity only.', 'The indices are based on ISIC Rev. 3.;Twelve months ending 30 June of the year stated.', 'The indices are based on ISIC Rev. 3.;Country data supplemented with data from the Observatoire Economique et Statistique d\\x92Afrique Subsaharienne (Afristat).', 'The indices are based on ISIC Rev. 3.;Country data supplemented with data from the Observatoire Economique et Statistique d\\x92Afrique Subsaharienne (Afristat).;Data refers to chemicals and rubber products only.', 'Excluding computer, electronic and optical products; and electrical equipment.', 'The indices are based on ISIC Rev. 3.;Twelve months beginning 1 July of the year stated.', 'The indices are based on ISIC Rev. 3.;Data refers to fabricated metal products; machinery and equipment, n.e.c.; electrical machinery and apparatus, n.e.c.; and radio, television and communication equipment only.', 'The indices are based on ISIC Rev. 3.;Country data supplemented with data from the Observatoire Economique et Statistique d\\x92Afrique Subsaharienne (Afristat).;Data refers to fabricated metal products only.', 'The indices are based on ISIC Rev. 3.;Data refers to manufacture of all metal products, machinery and transport equipment only; excluding medical, precision and optical instruments, watches and clocks.', 'For government controlled areas.;Including basic metals.', 'Break in the time series.;Excluding water and waste management.', 'The indices are based on ISIC Rev. 3.;Data refers to machinery and equipment n.e.c.; and manufacturing n.e.c. only.', 'Twelve months ending 31 March of the year stated.', 'Data refers to food and beverages only.', 'The indices are based on ISIC Rev. 3.;Excluding motor vehicles and transport equipment.', 'Excluding transport equipment.', 'Excluding computer, electronic and optical products.', 'The indices are based on ISIC Rev. 3.;Data refers to electricity, gas, steam and hot water supply only.', 'The indices are based on ISIC Rev. 3.;Data refers to fabricated metal products; machinery and equipment, n.e.c.; electrical machinery and apparatus, n.e.c.; and motor vehicles only.', 'The indices are based on ISIC Rev. 3.;Country data supplemented with data from the Observatoire Economique et Statistique d\\x92Afrique Subsaharienne (Afristat).;Data refers to textiles and wearing apparel only.', 'Including basic metals.', 'The indices are based on ISIC Rev. 3.;Data refers to electrical machinery and apparatus n.e.c.', 'The indices are based on ISIC Rev. 3.;Country data supplemented with data from the Observatoire Economique et Statistique d\\x92Afrique Subsaharienne (Afristat).;Data refers to chemicals and chemical products only.', 'The indices are based on ISIC Rev. 3.;Excluding textiles.', 'Data refers to mining and manufacturing.', 'Twelve months ending 30 June of the year stated.;Data refers to electricity and gas only.', 'The indices are based on ISIC Rev. 3.;Data refers to manufacture of all metal products, machinery and transport equipment only; excluding radio, television and communication apparatus.', 'The indices are based on ISIC Rev. 3.;Twelve months beginning 1 April of the year stated.;Data refers to electricity only.', 'Data refers to fabricated metal products only.', 'The indices are based on ISIC Rev. 3.;Country data supplemented with data from the Observatoire Economique et Statistique d\\x92Afrique Subsaharienne (Afristat).;Data refers to electricity and water only.', 'The indices are based on ISIC Rev. 3.;Twelve months ending 30 June of the year stated.;Data refers to electricity only.', 'The indices are based on ISIC Rev. 3.;Excluding petroleum products.', 'The indices are based on ISIC Rev. 3.;Data refers to petroleum products, chemicals and chemical products only.', 'The indices are based on ISIC Rev. 3.', 'The indices are based on ISIC Rev. 3.;Twelve months beginning 1 July of the year stated.;Data refers to chemicals and chemical products only.', 'The indices are based on ISIC Rev. 3.;Data refers to manufacture of all metal products, machinery and transport equipment only; excluding office, accounting and computing machinery machinery.', 'The indices are based on ISIC Rev. 3.;Data refers to fabricated metals, machinery and equipment n.e.c. only.', 'Data refers to wearing apparel only.', 'The indices are based on ISIC Rev. 3.;Country data supplemented with data from the Observatoire Economique et Statistique d\\x92Afrique Subsaharienne (Afristat).;Data refers to petroleum products, chemicals and chemical products only.', 'The indices are based on ISIC Rev. 3.;Including manufacturing n.e.c.'])\n"
     ]
    }
   ],
   "source": [
    "print(set(industrial['Footnotes']))"
   ]
  },
  {
   "cell_type": "code",
   "execution_count": 89,
   "metadata": {},
   "outputs": [
    {
     "name": "stdout",
     "output_type": "stream",
     "text": [
      "set(['United Nations Statistics Division, New York, Environment and energy statistics branch, Industrial and Energy Statistics Section, last accessed November 2015.'])\n"
     ]
    }
   ],
   "source": [
    "print(set(industrial['Source']))"
   ]
  },
  {
   "cell_type": "code",
   "execution_count": 90,
   "metadata": {},
   "outputs": [],
   "source": [
    "industrial.drop('Source', axis=1, inplace=True)"
   ]
  },
  {
   "cell_type": "code",
   "execution_count": 91,
   "metadata": {},
   "outputs": [
    {
     "data": {
      "text/html": [
       "<div>\n",
       "<style scoped>\n",
       "    .dataframe tbody tr th:only-of-type {\n",
       "        vertical-align: middle;\n",
       "    }\n",
       "\n",
       "    .dataframe tbody tr th {\n",
       "        vertical-align: top;\n",
       "    }\n",
       "\n",
       "    .dataframe thead th {\n",
       "        text-align: right;\n",
       "    }\n",
       "</style>\n",
       "<table border=\"1\" class=\"dataframe\">\n",
       "  <thead>\n",
       "    <tr style=\"text-align: right;\">\n",
       "      <th></th>\n",
       "      <th>Region/Country/Area</th>\n",
       "      <th>Country</th>\n",
       "      <th>Series</th>\n",
       "      <th>Year</th>\n",
       "      <th>Value</th>\n",
       "      <th>Footnotes</th>\n",
       "    </tr>\n",
       "  </thead>\n",
       "  <tbody>\n",
       "    <tr>\n",
       "      <th>1</th>\n",
       "      <td>8</td>\n",
       "      <td>Albania</td>\n",
       "      <td>Index of industrial production: Total industry...</td>\n",
       "      <td>2007</td>\n",
       "      <td>118.5</td>\n",
       "      <td>NaN</td>\n",
       "    </tr>\n",
       "    <tr>\n",
       "      <th>2</th>\n",
       "      <td>8</td>\n",
       "      <td>Albania</td>\n",
       "      <td>Index of industrial production: Total industry...</td>\n",
       "      <td>2008</td>\n",
       "      <td>142.7</td>\n",
       "      <td>NaN</td>\n",
       "    </tr>\n",
       "    <tr>\n",
       "      <th>3</th>\n",
       "      <td>8</td>\n",
       "      <td>Albania</td>\n",
       "      <td>Index of industrial production: Total industry...</td>\n",
       "      <td>2009</td>\n",
       "      <td>148.3</td>\n",
       "      <td>NaN</td>\n",
       "    </tr>\n",
       "    <tr>\n",
       "      <th>4</th>\n",
       "      <td>8</td>\n",
       "      <td>Albania</td>\n",
       "      <td>Index of industrial production: Total industry...</td>\n",
       "      <td>2010</td>\n",
       "      <td>200.2</td>\n",
       "      <td>NaN</td>\n",
       "    </tr>\n",
       "    <tr>\n",
       "      <th>5</th>\n",
       "      <td>8</td>\n",
       "      <td>Albania</td>\n",
       "      <td>Index of industrial production: Total industry...</td>\n",
       "      <td>2011</td>\n",
       "      <td>237.6</td>\n",
       "      <td>NaN</td>\n",
       "    </tr>\n",
       "  </tbody>\n",
       "</table>\n",
       "</div>"
      ],
      "text/plain": [
       "  Region/Country/Area  Country  \\\n",
       "1                   8  Albania   \n",
       "2                   8  Albania   \n",
       "3                   8  Albania   \n",
       "4                   8  Albania   \n",
       "5                   8  Albania   \n",
       "\n",
       "                                              Series  Year  Value Footnotes  \n",
       "1  Index of industrial production: Total industry...  2007  118.5       NaN  \n",
       "2  Index of industrial production: Total industry...  2008  142.7       NaN  \n",
       "3  Index of industrial production: Total industry...  2009  148.3       NaN  \n",
       "4  Index of industrial production: Total industry...  2010  200.2       NaN  \n",
       "5  Index of industrial production: Total industry...  2011  237.6       NaN  "
      ]
     },
     "execution_count": 91,
     "metadata": {},
     "output_type": "execute_result"
    }
   ],
   "source": [
    "industrial.head()"
   ]
  },
  {
   "cell_type": "code",
   "execution_count": 92,
   "metadata": {},
   "outputs": [],
   "source": [
    "industrial.to_csv('../clean_data/industrial_clean.csv')"
   ]
  },
  {
   "cell_type": "code",
   "execution_count": null,
   "metadata": {},
   "outputs": [],
   "source": []
  }
 ],
 "metadata": {
  "kernelspec": {
   "display_name": "Ironhack",
   "language": "python",
   "name": "py3"
  },
  "language_info": {
   "codemirror_mode": {
    "name": "ipython",
    "version": 2
   },
   "file_extension": ".py",
   "mimetype": "text/x-python",
   "name": "python",
   "nbconvert_exporter": "python",
   "pygments_lexer": "ipython2",
   "version": "2.7.16"
  }
 },
 "nbformat": 4,
 "nbformat_minor": 2
}
