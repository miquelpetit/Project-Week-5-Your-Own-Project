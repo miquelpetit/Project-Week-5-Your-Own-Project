{
 "cells": [
  {
   "cell_type": "markdown",
   "metadata": {},
   "source": [
    "# Does pollution mean economic growth?\n",
    "\n",
    "What are the economic activities that generate the most wealth for a country? Are those the polluting activities such as energy production, manufacturing and natural resources? Or maybe a services-oriented economy with activities like tourism, financial services and other non-polluting activities?\n",
    "\n",
    "The aim of this project is to check the following hypothesis: \"The countries that pollute the most are the ones with larger economies\". To do so, we will collect data with information about this two variables from different countries over different years as well.\n",
    "\n",
    "## Background\n",
    "Sustainability and money are two concepts that seem to not match, that's why a lot of environmental regulations and conventions are being done lately. We could say pollution is a so called 'externality' - an impact an action has on others for which they do not pay, or for which they are not compensated -, one of the reasons why it is believed capitalism can't be unregulated or \"self-regulated\". Although the agreements signed by different states, such as the Paris Agreement in 2016, lately a rolling back trend in environmental regulation is occuring, starting with USA and its president Donald Trump.\n",
    "\n",
    "This happens because polluting activities look like a high-return investment and an easy way to lift the economy up of a country as it will reduce the unemployment in a fast way and help the GDP grow.\n",
    "\n",
    "## First Steps\n",
    "The first steps to this project were:\n",
    "#### 1. In the first place I did a brainstorm to think and choose an interesting topic:\n",
    "> I chose this topic because I've recently studied in University how the agreements between states work and I particularly got interested in the environmental ones. Besides, as I've also studied macroeconomy I found attractive relating both things in my analysis.\n",
    "\n",
    "#### 2. The second thing I did was to look for data:\n",
    "> Luckily, this step did not cost me much work as I rapidly thought that the United Nations should have information on this topic. In the UN data website I founs .csv files for all the data I wanted. Concretely, GDP per country and year measured in millions and per capita, and CO2 per country and year measured in thousand tones and per capita.\n",
    "\n",
    "#### 3. Finally I organised and planned the project and the timeline I'd like to follow:\n",
    "> I used trello in order to keep my to-do list updated as well as the deadlines, Github to keep the repo online and Jupyter Notebook to code. Also I filled the README file.\n",
    "\n",
    "## Cleaning the data\n",
    "To be fair I have to say that the data from the UN was pretty clear and creditable, so it wasn't difficult to clean the data. I just imported the data, changed some dtypes and deleted columns that weren't relevant for my analysis. The difficult part was to join both tables, the GDP one and the CO2 one, as not all the countries had data for both variables. Not just this, but also the years did not match for all the countries that matched. So here in this step is where I lost a lot of data that was not useful for me. At the end, the data I had was: 202 countries, the years 1985, 1995, 2005, 2010. And for this I had CO2 in thousand tons and per capita and GDP in millions and per capita too. As I realised this later than the first data cleaning, I created a file called the_big_one.csv in you-project folder which was the one I finally used for the analysis.\n",
    "\n",
    "## Database\n",
    "Next thing I did was to create a Google Cloud Database and fill it with the data I cleaned. I found it a bit difficult at first, but after that I really discovered that it is a very powerfull tool. I used the create_engine method from SQLalchemy in order to upload my data.\n",
    "\n",
    "## Analysis\n",
    "With the visualisations I did with matplotlib I arrived to some conclusions:\n",
    "\n",
    "![image1](image1.png)\n",
    "In this graph we can see a positive relationship between the GDP in millions and the CO2 in thousand tons. The correlation coeficient is 0.95, so we can affirm that countries that pollute more have also a larger economy.\n",
    "\n",
    "After this first simple analysis that confirmed my hypothesis, I felt curiosity to get more insights from my data and I found that two variables that looked like could also be related were GDP per capita with CO2 per capita, but when I plotted the data into another scatter plot the result wasn't the expected. But then my classmates gave me a nice idea to implement, to separe developed and emerging countries and to spot the differences. The correlation coeficient increased for both tables as there are more similarities between these two groups of countries. Then I plotted them together and some thing could be seen:\n",
    "\n",
    "![image2](image2.png)\n",
    "\n",
    "But I thought this wasn't readable for my audience, so I decided plotting just the two regression lines:\n",
    "\n",
    "![image3](image3.png)\n",
    "\n",
    "So we can see that in developed countries GDP per capita increases way faster than CO2 per capita while in emerging countries the opposite happens.\n",
    "\n"
   ]
  },
  {
   "cell_type": "code",
   "execution_count": null,
   "metadata": {},
   "outputs": [],
   "source": []
  }
 ],
 "metadata": {
  "kernelspec": {
   "display_name": "Ironhack",
   "language": "python",
   "name": "py3"
  },
  "language_info": {
   "codemirror_mode": {
    "name": "ipython",
    "version": 2
   },
   "file_extension": ".py",
   "mimetype": "text/x-python",
   "name": "python",
   "nbconvert_exporter": "python",
   "pygments_lexer": "ipython2",
   "version": "2.7.16"
  }
 },
 "nbformat": 4,
 "nbformat_minor": 2
}
